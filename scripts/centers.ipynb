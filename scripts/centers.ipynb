{
 "cells": [
  {
   "cell_type": "markdown",
   "metadata": {},
   "source": [
    "# center 分析\n"
   ]
  },
  {
   "cell_type": "code",
   "execution_count": null,
   "metadata": {},
   "outputs": [],
   "source": [
    "import os\n",
    "import xml.etree.ElementTree as ET\n",
    "\n",
    "import cv2\n",
    "\n",
    "currentDir = os.path.dirname(os.path.abspath(__file__))\n",
    "calibrationFilePath = os.path.join(currentDir, \"../config/calibration.xml\")\n",
    "imageFilePath = os.path.join(currentDir, \"../data/raw/cars.bmp\")\n",
    "\n",
    "image = cv2.imread(imageFilePath)\n",
    "\n",
    "tree = ET.parse(\"../config/calibration.xml\")\n",
    "root = tree.getroot()\n",
    "\n",
    "# 转换成float了，因为cv.circle\n",
    "diameter = int(float(root.find(\"diameter\").text))\n",
    "centers = root.find(\"centers\")\n",
    "\n",
    "points = [\"ltop\", \"rtop\", \"lbot\"]\n",
    "for point in points:\n",
    "    x = float(centers.find(point).find(\"x\").text)\n",
    "    y = float(centers.find(point).find(\"y\").text)\n",
    "    cv2.circle(image, (int(x), int(y)), diameter // 2, (0, 0, 255), 2)\n",
    "\n",
    "output_path = os.path.join(currentDir, \"../data/center/center_cars.png\")\n",
    "cv2.imwrite(output_path, image)\n"
   ]
  }
 ],
 "metadata": {
  "kernelspec": {
   "display_name": "py39_pytorch",
   "language": "python",
   "name": "python3"
  },
  "language_info": {
   "name": "python",
   "version": "3.9.15"
  }
 },
 "nbformat": 4,
 "nbformat_minor": 2
}
